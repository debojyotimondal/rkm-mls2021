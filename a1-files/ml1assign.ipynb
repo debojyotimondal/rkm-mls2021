{
 "cells": [
  {
   "cell_type": "markdown",
   "metadata": {},
   "source": [
    "# Under Gaussian assumption linear regression amounts to least square (ordinary least square)\n",
    "<br>\n",
    "Debojyoti Mondal<br>\n",
    "$28^{th}$ February,2021"
   ]
  },
  {
   "cell_type": "markdown",
   "metadata": {},
   "source": [
    "Theorem1: Prove that under Gaussian assumption linear regression amounts to least square"
   ]
  },
  {
   "cell_type": "markdown",
   "metadata": {},
   "source": [
    "Consider the linear model where target variables $y_i$ and the inputs $x_i$ are related via :\n",
    "<br>\n",
    "<br>\n",
    "$$y_i=\\theta^{T} x_i \\ +\\ \\epsilon_i$$\n",
    "<br>\n",
    "<br>\n",
    "where $\\epsilon_i$ is the error associated with the model. According to the theorem further assume\n",
    "that the  $\\epsilon_i$ are distributed IID (independently and identically distributed)\n",
    "according to a Gaussian distribution (also called a Normal distribution) with mean zero and some variance $\\sigma$,i.e, $$\\epsilon_i\\ \\sim \\ \\mathcal{N}(0,\\sigma^2)$$\n"
   ]
  },
  {
   "cell_type": "markdown",
   "metadata": {},
   "source": [
    "The density of $\\epsilon_i$ is given by $$p(\\epsilon_i)\\ =\\ \\frac{1}{\\sqrt{2\\pi}\\sigma}\\exp\\left(-\\frac{(\\epsilon_i^2)}{2\\sigma^{2}}\\right)$$\n",
    "<br>\n",
    "This implies that $$p(y_i-\\theta^{T}x_i)\\ =\\ \\frac{1}{\\sqrt{2\\pi}\\sigma}\\exp\\left(-\\frac{(y_i-\\theta^{T} x_i)^2}{2\\sigma^{2}}\\right)$$\n",
    "However, the conventional way to write the above probability is $$p(y_i|x_i;\\theta)\\ =\\ \\frac{1}{\\sqrt{2\\pi}\\sigma}\\exp\\left(-\\frac{(y_i-\\theta^{T} x_i)^2}{2\\sigma^{2}}\\right)$$ which indicates that this is the distribution of $y_i$ given $x_i$ and parameterized by $\\theta$. The distribution of $y_i$ is given as $y_i$|$x_i$; $\\theta\\ \\sim\\ \\mathcal{N}(\\theta^{T} x_i,\\sigma^2)$\\\\From Bayes Theorem:$$p(\\theta|D)\\ =\\frac{p(D|\\theta)p(\\theta)}{p(D)}$$\n",
    "\n",
    "<br>\n",
    "Where D is data, $p(\\theta|D)$ is posterior probability, $p(\\theta)$ is prior probability and $p(\\theta|D)$ is data likelihood.\n",
    " "
   ]
  },
  {
   "cell_type": "markdown",
   "metadata": {},
   "source": [
    "From Maximum Likelihood Estimation(MLE):\n",
    "$$\n",
    "\\begin{align*}\n",
    "  \\theta^{*}\n",
    "  &=argmax_{\\theta} \\;\\;L(\\theta|D)\\\\\n",
    "  &=argmax_{\\theta} \\;\\;p(\\theta|D)\\\\\n",
    "  &=argmax_{\\theta} \\;\\;p(y_1,x_1,y_2,x_2,...,y_m,x_m;\\theta)\\\\\n",
    "  &=argmax_{\\theta} \\;\\;\\ \\prod_{i=1}^m\\;\\;\\ p(y_i,x_i;\\theta)p(x_i;\\theta)\\\\\n",
    "  &=argmax_{\\theta} \\;\\;\\ \\prod_{i=1}^m\\;\\;\\ p(y_i,x_i;\\theta)p(x_i)\\\\\n",
    "  &=argmax_{\\theta} \\;\\;\\ \\prod_{i=1}^m\\;\\;\\ p(y_i,x_i;\\theta)\\\\\n",
    "  &=argmax_{\\theta} \\;\\;\\ \\sum_{i=1}^m\\;\\;\\log p(y_i,x_i;\\theta)\\\\\n",
    "  &=argmax_{\\theta} \\;\\;\\ \\sum_{i=1}^m\\;\\; \\log\\frac{1}{\\sqrt{2\\pi}\\sigma}+ \\log\\exp\\left(\\frac{(y_i-\\theta^{T} x_i)^2}{2\\sigma^{2}}\\right)\\\\\n",
    "  &=argmax_{\\theta} \\;\\;\\ \\frac{-1}{2\\sigma^{2}}\\;\\;\\ \\sum_{i=1}^m\\;\\; \\left((y_i-\\theta^{T} x_i)^2\\right)\\\\\n",
    "  &=argmax_{\\theta} \\;\\;\\ \\frac{-1}{m}\\;\\;\\ \\sum_{i=1}^m\\;\\; \\left((y_i-\\theta^{T} x_i)^2\\right)\n",
    "\\end{align*}\n",
    "$$"
   ]
  },
  {
   "cell_type": "markdown",
   "metadata": {},
   "source": [
    "The above form represents the least square form."
   ]
  },
  {
   "cell_type": "markdown",
   "metadata": {},
   "source": [
    "Therefore it is proved that under Gaussian assumption linear regression amounts to least square (ordinary least square)."
   ]
  },
  {
   "cell_type": "code",
   "execution_count": null,
   "metadata": {},
   "outputs": [],
   "source": []
  }
 ],
 "metadata": {
  "kernelspec": {
   "display_name": "Python 3",
   "language": "python",
   "name": "python3"
  },
  "language_info": {
   "codemirror_mode": {
    "name": "ipython",
    "version": 3
   },
   "file_extension": ".py",
   "mimetype": "text/x-python",
   "name": "python",
   "nbconvert_exporter": "python",
   "pygments_lexer": "ipython3",
   "version": "3.7.3"
  }
 },
 "nbformat": 4,
 "nbformat_minor": 4
}
